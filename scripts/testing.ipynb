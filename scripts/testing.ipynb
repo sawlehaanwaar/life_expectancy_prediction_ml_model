{
 "cells": [
  {
   "cell_type": "code",
   "execution_count": null,
   "metadata": {},
   "outputs": [],
   "source": [
    "import requests\n",
    "\n",
    "url = \"http://127.0.0.1:8000/predict/\"\n",
    "data = {\n",
    "    \"Country\": \"CountryName\",\n",
    "    \"Year\": 2020,\n",
    "    \"Status\": \"Developed\",\n",
    "    \"Adult_Mortality\": 200.0,\n",
    "    \"infant_deaths\": 5,\n",
    "    \"Alcohol\": 4.5,\n",
    "    \"percentage_expenditure\": 150.0,\n",
    "    \"Hepatitis_B\": 95.0,\n",
    "    \"Measles\": 100,\n",
    "    \"BMI\": 23.5,\n",
    "    \"under_five_deaths\": 10,\n",
    "    \"Polio\": 90.0,\n",
    "    \"Total_expenditure\": 5.5,\n",
    "    \"Diphtheria\": 95.0,\n",
    "    \"HIV_AIDS\": 0.1,\n",
    "    \"GDP\": 5000.0,\n",
    "    \"Population\": 1000000.0,\n",
    "    \"thinness_1_19_years\": 4.5,\n",
    "    \"thinness_5_9_years\": 5.0,\n",
    "    \"income_composition_of_resources\": 0.8,\n",
    "    \"Schooling\": 12.5\n",
    "}\n",
    "\n",
    "response = requests.post(url, json=data)\n",
    "\n",
    "print(response.json())\n"
   ]
  }
 ],
 "metadata": {
  "language_info": {
   "name": "python"
  }
 },
 "nbformat": 4,
 "nbformat_minor": 2
}
