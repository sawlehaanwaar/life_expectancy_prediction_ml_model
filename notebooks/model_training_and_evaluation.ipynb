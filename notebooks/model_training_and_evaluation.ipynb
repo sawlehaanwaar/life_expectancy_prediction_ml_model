{
 "cells": [
  {
   "cell_type": "code",
   "execution_count": 13,
   "id": "715ca7be-d2b4-49d4-857e-04366915fc5c",
   "metadata": {},
   "outputs": [],
   "source": [
    "from sklearn.linear_model import Lasso\n",
    "from sklearn.model_selection import train_test_split\n",
    "from sklearn.metrics import mean_absolute_error, mean_squared_error, r2_score\n",
    "from sklearn.preprocessing import RobustScaler \n",
    "import numpy as np\n",
    "import joblib\n",
    "import pandas as pd"
   ]
  },
  {
   "cell_type": "code",
   "execution_count": 2,
   "id": "0e4f5124-96cb-428a-bef5-21656a81a37b",
   "metadata": {},
   "outputs": [],
   "source": [
    "import sys\n",
    "import os\n",
    "sys.path.append(os.path.abspath(\"..\"))"
   ]
  },
  {
   "cell_type": "code",
   "execution_count": 3,
   "id": "ad1927fa-3d8a-42ef-8977-eaa298f3f246",
   "metadata": {},
   "outputs": [],
   "source": [
    "# Importing functions\n",
    "from scripts.data_preprocessing_script import preprocess_data"
   ]
  },
  {
   "cell_type": "code",
   "execution_count": 4,
   "id": "f3efcae1",
   "metadata": {},
   "outputs": [],
   "source": [
    "from scripts.model_training_and_evaluation import train_and_evaluate_model"
   ]
  },
  {
   "cell_type": "code",
   "execution_count": 5,
   "id": "47c33cf2-6b9e-42b1-9b74-14950e684b53",
   "metadata": {},
   "outputs": [
    {
     "name": "stdout",
     "output_type": "stream",
     "text": [
      "Data loaded: (2938, 22)\n",
      "Step 1: Clean column names - done\n",
      "Step 2: Convert column names to lowercase - done\n",
      "Step 3: Encode categorical variables - done\n",
      "Step 4: Impute missing values - done\n",
      "Step 5: Transform skewed data - done\n",
      "Step 6: Cap outliers - done\n",
      "Step 7: Winsorize 'Percentage expenditure' - done\n",
      "Preprocessing complete.\n"
     ]
    },
    {
     "data": {
      "text/html": [
       "<div>\n",
       "<style scoped>\n",
       "    .dataframe tbody tr th:only-of-type {\n",
       "        vertical-align: middle;\n",
       "    }\n",
       "\n",
       "    .dataframe tbody tr th {\n",
       "        vertical-align: top;\n",
       "    }\n",
       "\n",
       "    .dataframe thead th {\n",
       "        text-align: right;\n",
       "    }\n",
       "</style>\n",
       "<table border=\"1\" class=\"dataframe\">\n",
       "  <thead>\n",
       "    <tr style=\"text-align: right;\">\n",
       "      <th></th>\n",
       "      <th>country</th>\n",
       "      <th>year</th>\n",
       "      <th>life expectancy</th>\n",
       "      <th>adult mortality</th>\n",
       "      <th>infant deaths</th>\n",
       "      <th>alcohol</th>\n",
       "      <th>percentage expenditure</th>\n",
       "      <th>hepatitis b</th>\n",
       "      <th>measles</th>\n",
       "      <th>bmi</th>\n",
       "      <th>...</th>\n",
       "      <th>total expenditure</th>\n",
       "      <th>diphtheria</th>\n",
       "      <th>hiv/aids</th>\n",
       "      <th>gdp</th>\n",
       "      <th>population</th>\n",
       "      <th>thinness 1-19 years</th>\n",
       "      <th>thinness 5-9 years</th>\n",
       "      <th>income composition of resources</th>\n",
       "      <th>schooling</th>\n",
       "      <th>status_Developing</th>\n",
       "    </tr>\n",
       "  </thead>\n",
       "  <tbody>\n",
       "    <tr>\n",
       "      <th>0</th>\n",
       "      <td>1.0</td>\n",
       "      <td>2015.0</td>\n",
       "      <td>65.0</td>\n",
       "      <td>263.0</td>\n",
       "      <td>7.874008</td>\n",
       "      <td>0.1</td>\n",
       "      <td>4.280542</td>\n",
       "      <td>3.555348</td>\n",
       "      <td>7.051856</td>\n",
       "      <td>19.1</td>\n",
       "      <td>...</td>\n",
       "      <td>8.16</td>\n",
       "      <td>65.0</td>\n",
       "      <td>0.09531</td>\n",
       "      <td>6.372055</td>\n",
       "      <td>17.334091</td>\n",
       "      <td>17.2</td>\n",
       "      <td>17.3</td>\n",
       "      <td>0.479</td>\n",
       "      <td>10.1</td>\n",
       "      <td>1.0</td>\n",
       "    </tr>\n",
       "    <tr>\n",
       "      <th>1</th>\n",
       "      <td>1.0</td>\n",
       "      <td>2014.0</td>\n",
       "      <td>59.9</td>\n",
       "      <td>271.0</td>\n",
       "      <td>8.000000</td>\n",
       "      <td>0.1</td>\n",
       "      <td>4.311116</td>\n",
       "      <td>3.637586</td>\n",
       "      <td>6.200509</td>\n",
       "      <td>18.6</td>\n",
       "      <td>...</td>\n",
       "      <td>8.18</td>\n",
       "      <td>62.0</td>\n",
       "      <td>0.09531</td>\n",
       "      <td>6.419501</td>\n",
       "      <td>12.699497</td>\n",
       "      <td>17.5</td>\n",
       "      <td>17.5</td>\n",
       "      <td>0.476</td>\n",
       "      <td>10.0</td>\n",
       "      <td>1.0</td>\n",
       "    </tr>\n",
       "    <tr>\n",
       "      <th>2</th>\n",
       "      <td>1.0</td>\n",
       "      <td>2013.0</td>\n",
       "      <td>59.9</td>\n",
       "      <td>268.0</td>\n",
       "      <td>8.124038</td>\n",
       "      <td>0.1</td>\n",
       "      <td>4.307023</td>\n",
       "      <td>3.583519</td>\n",
       "      <td>6.066108</td>\n",
       "      <td>18.1</td>\n",
       "      <td>...</td>\n",
       "      <td>8.13</td>\n",
       "      <td>64.0</td>\n",
       "      <td>0.09531</td>\n",
       "      <td>6.450067</td>\n",
       "      <td>17.272826</td>\n",
       "      <td>17.7</td>\n",
       "      <td>17.7</td>\n",
       "      <td>0.470</td>\n",
       "      <td>9.9</td>\n",
       "      <td>1.0</td>\n",
       "    </tr>\n",
       "    <tr>\n",
       "      <th>3</th>\n",
       "      <td>1.0</td>\n",
       "      <td>2012.0</td>\n",
       "      <td>59.5</td>\n",
       "      <td>272.0</td>\n",
       "      <td>8.306624</td>\n",
       "      <td>0.1</td>\n",
       "      <td>4.371777</td>\n",
       "      <td>3.496508</td>\n",
       "      <td>7.933080</td>\n",
       "      <td>17.6</td>\n",
       "      <td>...</td>\n",
       "      <td>8.52</td>\n",
       "      <td>67.0</td>\n",
       "      <td>0.09531</td>\n",
       "      <td>6.508708</td>\n",
       "      <td>15.123021</td>\n",
       "      <td>17.9</td>\n",
       "      <td>18.0</td>\n",
       "      <td>0.463</td>\n",
       "      <td>9.8</td>\n",
       "      <td>1.0</td>\n",
       "    </tr>\n",
       "    <tr>\n",
       "      <th>4</th>\n",
       "      <td>1.0</td>\n",
       "      <td>2011.0</td>\n",
       "      <td>59.2</td>\n",
       "      <td>275.0</td>\n",
       "      <td>8.426150</td>\n",
       "      <td>0.1</td>\n",
       "      <td>2.091507</td>\n",
       "      <td>3.465736</td>\n",
       "      <td>8.011023</td>\n",
       "      <td>17.2</td>\n",
       "      <td>...</td>\n",
       "      <td>7.87</td>\n",
       "      <td>68.0</td>\n",
       "      <td>0.09531</td>\n",
       "      <td>4.167242</td>\n",
       "      <td>14.906964</td>\n",
       "      <td>18.2</td>\n",
       "      <td>18.2</td>\n",
       "      <td>0.454</td>\n",
       "      <td>9.5</td>\n",
       "      <td>1.0</td>\n",
       "    </tr>\n",
       "  </tbody>\n",
       "</table>\n",
       "<p>5 rows × 22 columns</p>\n",
       "</div>"
      ],
      "text/plain": [
       "   country    year  life expectancy  adult mortality  infant deaths  alcohol  \\\n",
       "0      1.0  2015.0             65.0            263.0       7.874008      0.1   \n",
       "1      1.0  2014.0             59.9            271.0       8.000000      0.1   \n",
       "2      1.0  2013.0             59.9            268.0       8.124038      0.1   \n",
       "3      1.0  2012.0             59.5            272.0       8.306624      0.1   \n",
       "4      1.0  2011.0             59.2            275.0       8.426150      0.1   \n",
       "\n",
       "   percentage expenditure  hepatitis b   measles   bmi  ...  \\\n",
       "0                4.280542     3.555348  7.051856  19.1  ...   \n",
       "1                4.311116     3.637586  6.200509  18.6  ...   \n",
       "2                4.307023     3.583519  6.066108  18.1  ...   \n",
       "3                4.371777     3.496508  7.933080  17.6  ...   \n",
       "4                2.091507     3.465736  8.011023  17.2  ...   \n",
       "\n",
       "   total expenditure  diphtheria  hiv/aids       gdp  population  \\\n",
       "0               8.16        65.0   0.09531  6.372055   17.334091   \n",
       "1               8.18        62.0   0.09531  6.419501   12.699497   \n",
       "2               8.13        64.0   0.09531  6.450067   17.272826   \n",
       "3               8.52        67.0   0.09531  6.508708   15.123021   \n",
       "4               7.87        68.0   0.09531  4.167242   14.906964   \n",
       "\n",
       "   thinness 1-19 years  thinness 5-9 years  income composition of resources  \\\n",
       "0                 17.2                17.3                            0.479   \n",
       "1                 17.5                17.5                            0.476   \n",
       "2                 17.7                17.7                            0.470   \n",
       "3                 17.9                18.0                            0.463   \n",
       "4                 18.2                18.2                            0.454   \n",
       "\n",
       "   schooling  status_Developing  \n",
       "0       10.1                1.0  \n",
       "1       10.0                1.0  \n",
       "2        9.9                1.0  \n",
       "3        9.8                1.0  \n",
       "4        9.5                1.0  \n",
       "\n",
       "[5 rows x 22 columns]"
      ]
     },
     "execution_count": 5,
     "metadata": {},
     "output_type": "execute_result"
    }
   ],
   "source": [
    "# Dataset path\n",
    "data_source = '/Users/sawlehaanwaar/Documents/GitHub/life_expectancy_prediction_ml_model/data/raw/life_expectancy_data.csv'\n",
    "\n",
    "df_processed = preprocess_data(data_source)\n",
    "\n",
    "df_processed.head()"
   ]
  },
  {
   "cell_type": "code",
   "execution_count": 6,
   "id": "75e44ff9",
   "metadata": {},
   "outputs": [
    {
     "name": "stdout",
     "output_type": "stream",
     "text": [
      "Mean Absolute Error: 2.5696467912344008\n",
      "Mean Squared Error: 11.479217614119534\n",
      "Root Mean Squared Error: 3.3880994103065416\n",
      "R-squared: 0.8662565670031569\n"
     ]
    }
   ],
   "source": [
    "# Training Lasso regression model using preprocessed data, of which training data is scaled, by calling the train_and_evaluate function\n",
    "# Step 2: Call the train_and_evaluate_model function and capture the returned values\n",
    "alpha = 0.01\n",
    "lasso_model, scaler, X_train_scaled, X_test_scaled, y_train, y_test, y_pred = train_and_evaluate_model(df_processed, alpha=alpha)"
   ]
  },
  {
   "cell_type": "code",
   "execution_count": 7,
   "id": "d20d0ca4",
   "metadata": {},
   "outputs": [],
   "source": [
    "# Making predictions on the test set\n",
    "y_pred = lasso_model.predict(X_test_scaled)"
   ]
  },
  {
   "cell_type": "code",
   "execution_count": 8,
   "id": "65ea5900",
   "metadata": {},
   "outputs": [
    {
     "name": "stdout",
     "output_type": "stream",
     "text": [
      "Training data (scaled) shape: (2350, 21)\n",
      "Test data (scaled) shape: (588, 21)\n",
      "First 5 predictions: [69.49437129 78.24730562 76.09156888 77.55545299 44.41897209]\n"
     ]
    }
   ],
   "source": [
    "# \n",
    "print(f\"Training data (scaled) shape: {X_train_scaled.shape}\")\n",
    "print(f\"Test data (scaled) shape: {X_test_scaled.shape}\")\n",
    "print(f\"First 5 predictions: {y_pred[:5]}\")"
   ]
  },
  {
   "cell_type": "code",
   "execution_count": 10,
   "id": "9803cecb",
   "metadata": {},
   "outputs": [
    {
     "name": "stdout",
     "output_type": "stream",
     "text": [
      "Mean Absolute Error (MAE): 2.5696467912344008\n",
      "Mean Squared Error (MSE): 11.479217614119534\n",
      "Root Mean Squared Error (RMSE): 3.3880994103065416\n",
      "R-squared (R2): 0.8662565670031569\n"
     ]
    }
   ],
   "source": [
    "# Step 5: Evaluate the model's performance\n",
    "mae = mean_absolute_error(y_test, y_pred)\n",
    "mse = mean_squared_error(y_test, y_pred)\n",
    "rmse = np.sqrt(mse)\n",
    "r2 = r2_score(y_test, y_pred)\n",
    "\n",
    "# Print performance metrics\n",
    "print(f\"Mean Absolute Error (MAE): {mae}\")\n",
    "print(f\"Mean Squared Error (MSE): {mse}\")\n",
    "print(f\"Root Mean Squared Error (RMSE): {rmse}\")\n",
    "print(f\"R-squared (R2): {r2}\")\n",
    "\n"
   ]
  },
  {
   "cell_type": "code",
   "execution_count": null,
   "id": "7ad1d7a1",
   "metadata": {},
   "outputs": [],
   "source": [
    "# Saving the trained model for future use\n",
    "joblib.dump(lasso_model, 'lasso_model.pkl')"
   ]
  },
  {
   "cell_type": "code",
   "execution_count": 14,
   "id": "d6752eb8",
   "metadata": {},
   "outputs": [],
   "source": [
    "columns = df_processed.drop('life expectancy', axis=1).columns"
   ]
  },
  {
   "cell_type": "code",
   "execution_count": 16,
   "id": "acdac66e",
   "metadata": {},
   "outputs": [
    {
     "name": "stdout",
     "output_type": "stream",
     "text": [
      "    country   year  adult mortality  infant deaths   alcohol  \\\n",
      "0 -0.683673 -0.125        -0.117647      -0.380256  0.155728   \n",
      "1 -0.683673 -0.875         0.052288      -0.380256 -0.052882   \n",
      "2  0.500000  0.375        -0.006536      -0.380256  0.717643   \n",
      "3  0.826531  0.625        -0.856209       0.000000 -0.545089   \n",
      "4 -0.724490 -0.750        -0.320261      -0.380256 -1.012620   \n",
      "\n",
      "   percentage expenditure  hepatitis b   measles       bmi  under-five deaths  \\\n",
      "0                0.390537    -0.754932 -0.481968 -0.493151          -0.392232   \n",
      "1                0.195000     0.245068 -0.481968 -0.586301          -0.392232   \n",
      "2               -0.994490    -1.642857 -0.481968  0.027397          -0.392232   \n",
      "3                0.518877    -1.198895  0.000000  0.432877          -0.052549   \n",
      "4                0.627615    -1.642857 -0.481968 -0.424658          -0.392232   \n",
      "\n",
      "   ...  total expenditure  diphtheria  hiv/aids       gdp  population  \\\n",
      "0  ...          -0.552044    0.263158  0.760835  0.263758   -0.423990   \n",
      "1  ...          -0.252128   -4.421053  1.000000 -0.154236   -0.461200   \n",
      "2  ...           0.553264    0.315789  0.000000  0.000000    0.000000   \n",
      "3  ...           0.445429    0.263158  0.000000  0.403370   -0.088386   \n",
      "4  ...          -0.855329    0.052632  0.000000  1.050805    0.000000   \n",
      "\n",
      "   thinness 1-19 years  thinness 5-9 years  income composition of resources  \\\n",
      "0             0.876712            0.854545                        -0.250000   \n",
      "1             1.114155            1.090909                        -0.401515   \n",
      "2             0.182648            0.181818                         0.246212   \n",
      "3             0.566210            0.545455                         0.196970   \n",
      "4             0.621005            0.509091                         0.575758   \n",
      "\n",
      "   schooling  status_Developing  \n",
      "0  -0.076923                0.0  \n",
      "1  -0.307692                0.0  \n",
      "2   0.179487                0.0  \n",
      "3   0.641026                0.0  \n",
      "4   0.282051                0.0  \n",
      "\n",
      "[5 rows x 21 columns]\n"
     ]
    }
   ],
   "source": [
    "# Checking to see scaled training data\n",
    "df_scaled_train = pd.DataFrame(X_train_scaled, columns=columns)\n",
    "print(df_scaled_train.head())"
   ]
  }
 ],
 "metadata": {
  "kernelspec": {
   "display_name": "Python 3 (ipykernel)",
   "language": "python",
   "name": "python3"
  },
  "language_info": {
   "codemirror_mode": {
    "name": "ipython",
    "version": 3
   },
   "file_extension": ".py",
   "mimetype": "text/x-python",
   "name": "python",
   "nbconvert_exporter": "python",
   "pygments_lexer": "ipython3",
   "version": "3.11.7"
  }
 },
 "nbformat": 4,
 "nbformat_minor": 5
}
